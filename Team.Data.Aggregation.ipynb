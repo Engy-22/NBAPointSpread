{
 "cells": [
  {
   "cell_type": "code",
   "execution_count": 14,
   "metadata": {},
   "outputs": [],
   "source": [
    "import pandas as pd\n",
    "\n",
    "#Load the data. Create new columns for defensive rebounds and the score differential \n",
    "data = pd.read_csv(\"nbagamestats.csv\")\n",
    "data[\"DefensiveRebounds\"] = data[\"TotalRebounds\"] - data[\"OffRebounds\"]\n",
    "data[\"Opp.DefensiveRebounds\"] = data[\"Opp.TotalRebounds\"] - data[\"Opp.OffRebounds\"]\n",
    "data[\"ScoreDiff\"] = data[\"TeamPoints\"] - data[\"OpponentPoints\"]\n",
    "ncol = data.shape[0]\n",
    "nrow = data.shape[1]\n",
    "\n",
    "\n",
    "#Function to get the features for a specific team\n",
    "def get_team_dataframe(teamname, allteamdata):\n",
    "    team_dataframe = allteamdata.loc[allteamdata['Team'] == teamname]\n",
    "    return(team_dataframe)\n",
    "\n",
    "#Index of team names \n",
    "team_index = data.Team.unique()\n",
    "\n"
   ]
  },
  {
   "cell_type": "code",
   "execution_count": 15,
   "metadata": {},
   "outputs": [],
   "source": [
    "#Dataframes for each team, for reference. \n",
    "ATL = get_team_dataframe(\"ATL\", data)\n",
    "BOS = get_team_dataframe(\"BOS\", data)\n",
    "BRK = get_team_dataframe(\"BRK\", data)\n",
    "CHO = get_team_dataframe(\"CHO\", data)\n",
    "CHI = get_team_dataframe(\"CHI\", data)\n",
    "CLE = get_team_dataframe(\"CLE\", data)\n",
    "DAL = get_team_dataframe(\"DAL\", data)\n",
    "DEN = get_team_dataframe(\"DEN\", data)\n",
    "DET = get_team_dataframe(\"DET\", data)\n",
    "GSW = get_team_dataframe(\"GSW\", data)\n",
    "HOU = get_team_dataframe(\"HOU\", data)\n",
    "IND = get_team_dataframe(\"IND\", data)\n",
    "LAC = get_team_dataframe(\"LAC\", data)\n",
    "LAL = get_team_dataframe(\"LAL\", data)\n",
    "MEM = get_team_dataframe(\"MEM\", data)\n",
    "MIA = get_team_dataframe(\"MIA\", data)\n",
    "MIL = get_team_dataframe(\"MIL\", data)\n",
    "MIN = get_team_dataframe(\"MIN\", data)\n",
    "NOP = get_team_dataframe(\"NOP\", data)\n",
    "NYK = get_team_dataframe(\"NYK\", data)\n",
    "OKC = get_team_dataframe(\"OKC\", data)\n",
    "ORL = get_team_dataframe(\"ORL\", data)\n",
    "PHI = get_team_dataframe(\"PHI\", data)\n",
    "PHO = get_team_dataframe(\"PHO\", data)\n",
    "POR = get_team_dataframe(\"POR\", data)\n",
    "SAC = get_team_dataframe(\"SAC\", data)\n",
    "SAS = get_team_dataframe(\"SAS\", data)\n",
    "TOR = get_team_dataframe(\"TOR\", data)\n",
    "UTA = get_team_dataframe(\"UTA\", data)\n",
    "WAS = get_team_dataframe(\"WAS\", data)\n"
   ]
  },
  {
   "cell_type": "code",
   "execution_count": 27,
   "metadata": {},
   "outputs": [],
   "source": [
    "#Dictionary of the teams and their dataframes\n",
    "d = {}\n",
    "for name in team_index:\n",
    "    d[name] = get_team_dataframe(name, data)\n",
    "\n",
    "\n",
    "#Old moving average function\n",
    "def team_moving_average(teamdata):\n",
    "    nrow = teamdata.shape[1]\n",
    "    quant_data = teamdata[[\"TeamPoints\", \"FieldGoals\", \"FieldGoalsAttempted\", \"X3PointShots\", \"X3PointShotsAttempted\", \n",
    "              \"FreeThrows\", \"FreeThrowsAttempted\", \"OffRebounds\", \"DefensiveRebounds\", \"Assists\", \"Steals\", \n",
    "             \"Blocks\", \"Turnovers\", \"TotalFouls\"]]\n",
    "    q = quant_data.rolling(window = 5).mean().shift(1)\n",
    "    rolling_df = q.dropna()\n",
    "    #date = teamdata[[\"Date\"]][5:]\n",
    "    #rolling_df = rolling_df.append(date)\n",
    "    return(rolling_df)\n",
    "    \n",
    "    \n",
    "#New moving average function \n",
    "def team_moving_average2(teamname, data):\n",
    "    teamdata = get_team_dataframe(teamname, data)\n",
    "    nrow = teamdata.shape[1]\n",
    "    quant_data = teamdata[[\"FieldGoals\", \"FieldGoalsAttempted\", \"X3PointShots\", \"X3PointShotsAttempted\", \n",
    "              \"FreeThrows\", \"FreeThrowsAttempted\", \"OffRebounds\", \"DefensiveRebounds\", \"Assists\", \"Steals\", \n",
    "             \"Blocks\", \"Turnovers\", \"TotalFouls\"]]\n",
    "    q = quant_data.rolling(window = 10).mean().shift(1)\n",
    "    opp = teamdata[\"Opponent\"]\n",
    "    date = teamdata[\"Date\"]\n",
    "    teampoints = teamdata[\"ScoreDiff\"]\n",
    "    rolling_df = q.join([opp, date, teampoints])\n",
    "    return(rolling_df)"
   ]
  },
  {
   "cell_type": "code",
   "execution_count": 31,
   "metadata": {},
   "outputs": [
    {
     "ename": "TypeError",
     "evalue": "team_moving_average2() missing 1 required positional argument: 'data'",
     "output_type": "error",
     "traceback": [
      "\u001b[0;31m---------------------------------------------------------------------------\u001b[0m",
      "\u001b[0;31mTypeError\u001b[0m                                 Traceback (most recent call last)",
      "\u001b[0;32m<ipython-input-31-20db8e7092d1>\u001b[0m in \u001b[0;36m<module>\u001b[0;34m\u001b[0m\n\u001b[0;32m----> 1\u001b[0;31m \u001b[0mATL_R\u001b[0m \u001b[0;34m=\u001b[0m \u001b[0mteam_moving_average2\u001b[0m\u001b[0;34m(\u001b[0m\u001b[0mATL\u001b[0m\u001b[0;34m)\u001b[0m\u001b[0;34m\u001b[0m\u001b[0;34m\u001b[0m\u001b[0m\n\u001b[0m\u001b[1;32m      2\u001b[0m \u001b[0mBOS_R\u001b[0m \u001b[0;34m=\u001b[0m \u001b[0mteam_moving_average2\u001b[0m\u001b[0;34m(\u001b[0m\u001b[0mBOS\u001b[0m\u001b[0;34m)\u001b[0m\u001b[0;34m\u001b[0m\u001b[0;34m\u001b[0m\u001b[0m\n\u001b[1;32m      3\u001b[0m \u001b[0mBRK_R\u001b[0m \u001b[0;34m=\u001b[0m \u001b[0mteam_moving_average2\u001b[0m\u001b[0;34m(\u001b[0m\u001b[0mBRK\u001b[0m\u001b[0;34m)\u001b[0m\u001b[0;34m\u001b[0m\u001b[0;34m\u001b[0m\u001b[0m\n\u001b[1;32m      4\u001b[0m \u001b[0mCHO_R\u001b[0m \u001b[0;34m=\u001b[0m \u001b[0mteam_moving_average2\u001b[0m\u001b[0;34m(\u001b[0m\u001b[0mCHO\u001b[0m\u001b[0;34m)\u001b[0m\u001b[0;34m\u001b[0m\u001b[0;34m\u001b[0m\u001b[0m\n\u001b[1;32m      5\u001b[0m \u001b[0mCHI_R\u001b[0m \u001b[0;34m=\u001b[0m \u001b[0mteam_moving_average2\u001b[0m\u001b[0;34m(\u001b[0m\u001b[0mCHI\u001b[0m\u001b[0;34m)\u001b[0m\u001b[0;34m\u001b[0m\u001b[0;34m\u001b[0m\u001b[0m\n",
      "\u001b[0;31mTypeError\u001b[0m: team_moving_average2() missing 1 required positional argument: 'data'"
     ]
    }
   ],
   "source": [
    "#Rolling dataframes for each team, for reference. \n",
    "ATL_R = team_moving_average2(ATL)\n",
    "BOS_R = team_moving_average2(BOS)\n",
    "BRK_R = team_moving_average2(BRK)\n",
    "CHO_R = team_moving_average2(CHO)\n",
    "CHI_R = team_moving_average2(CHI)\n",
    "CLE_R = team_moving_average2(CLE)\n",
    "DAL_R = team_moving_average2(DAL)\n",
    "DEN_R = team_moving_average2(DEN)\n",
    "DET_R = team_moving_average2(DET)\n",
    "GSW_R = team_moving_average2(GSW)\n",
    "HOU_R = team_moving_average2(HOU)\n",
    "IND_R = team_moving_average2(IND)\n",
    "LAC_R = team_moving_average2(LAC)\n",
    "LAL_R = team_moving_average2(LAL)\n",
    "MEM_R = team_moving_average2(MEM)\n",
    "MIA_R = team_moving_average2(MIA)\n",
    "MIL_R = team_moving_average2(MIL)\n",
    "MIN_R = team_moving_average2(MIN)\n",
    "NOP_R = team_moving_average2(NOP)\n",
    "NYK_R = team_moving_average2(NYK)\n",
    "OKC_R = team_moving_average2(OKC)\n",
    "ORL_R = team_moving_average2(ORL)\n",
    "PHI_R = team_moving_average2(PHI)\n",
    "PHO_R = team_moving_average2(PHO)\n",
    "POR_R = team_moving_average2(POR)\n",
    "SAC_R = team_moving_average2(SAC)\n",
    "SAS_R = team_moving_average2(SAS)\n",
    "TOR_R = team_moving_average2(TOR)\n",
    "UTA_R = team_moving_average2(UTA)\n",
    "WAS_R = team_moving_average2(WAS)\n"
   ]
  },
  {
   "cell_type": "code",
   "execution_count": null,
   "metadata": {},
   "outputs": [],
   "source": [
    "#Combined frame\n",
    "data_frames = [ATL_R, BOS_R, BRK_R, CHO_R, CHI_R, CLE_R, DAL_R, DEN_R, DET_R, GSW_R, \n",
    "               HOU_R, IND_R, LAC_R, LAL_R, MEM_R, MIA_R, MIL_R, MIN_R, NOP_R, NYK_R, \n",
    "               OKC_R, ORL_R, PHI_R, PHO_R, POR_R, SAC_R, SAS_R, TOR_R, UTA_R, WAS_R]\n",
    "    \n",
    "\n",
    "\n"
   ]
  },
  {
   "cell_type": "code",
   "execution_count": null,
   "metadata": {},
   "outputs": [],
   "source": [
    "#Unused attempt at lambda function work \n",
    "#from functools import reduce\n",
    "#df_merged = reduce(lambda  left,right: pd.merge(left,right,on=[\"Game\", \"Date\"],\n",
    "                                            how='outer'), data_frames)\n"
   ]
  },
  {
   "cell_type": "code",
   "execution_count": null,
   "metadata": {},
   "outputs": [],
   "source": [
    "#Oponnent feature set \n",
    "quant_data_opp = teamdata[[\"Opp.FieldGoals\", \"Opp.FieldGoalsAttempted\", \"Opp.3PointShots\", \"Opp.3PointShotsAttempted\", \n",
    "              \"Opp.FreeThrows\", \"Opp.FreeThrowsAttempted\", \"Opp.OffRebounds\", \"Opp.DefensiveRebounds\", \"Opp.Assists\", \"Opp.Steals\", \n",
    "             \"Opp.Blocks\", \"Opp.Turnovers\", \"Opp.TotalFouls\"]]"
   ]
  },
  {
   "cell_type": "code",
   "execution_count": 132,
   "metadata": {},
   "outputs": [],
   "source": [
    "#Create final master dataframe \n",
    "complete_df = pd.DataFrame()\n",
    "count = 0\n",
    "for index, row in data.iterrows():\n",
    "    hometeam = row[\"Team\"]\n",
    "    awayteam = row[\"Opponent\"]\n",
    "    gamedate = row[\"Date\"]\n",
    "    scorediff = row[\"ScoreDiff\"]\n",
    "    homedf = team_moving_average2(hometeam, data)\n",
    "    awaydf = team_moving_average2(awayteam, data)\n",
    "    homestats = homedf.loc[homedf[\"Date\"] == gamedate]\n",
    "    awaystats = awaydf.loc[awaydf[\"Date\"] == gamedate]\n",
    "    finalrow = pd.merge(homestats, awaystats, on = \"Date\", how = \"left\") \n",
    "    complete_df = complete_df.append(finalrow)\n",
    "\n"
   ]
  },
  {
   "cell_type": "code",
   "execution_count": 138,
   "metadata": {},
   "outputs": [],
   "source": [
    "#Correct number of rows \n",
    "complete_df.shape\n",
    "\n",
    "#Drop the N/A values \n",
    "curated_df = complete_df.dropna()"
   ]
  },
  {
   "cell_type": "code",
   "execution_count": 139,
   "metadata": {},
   "outputs": [],
   "source": [
    "#Save data to computer \n",
    "export_csv = curated_df.to_csv (r'C:\\Users\\zacharydiamandis\\Desktop\\export_dataframe.csv', index = None, header=True) \n",
    "        \n",
    "        "
   ]
  }
 ],
 "metadata": {
  "kernelspec": {
   "display_name": "Python 3",
   "language": "python",
   "name": "python3"
  },
  "language_info": {
   "codemirror_mode": {
    "name": "ipython",
    "version": 3
   },
   "file_extension": ".py",
   "mimetype": "text/x-python",
   "name": "python",
   "nbconvert_exporter": "python",
   "pygments_lexer": "ipython3",
   "version": "3.7.2"
  }
 },
 "nbformat": 4,
 "nbformat_minor": 2
}
