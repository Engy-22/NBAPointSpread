{
 "cells": [
  {
   "cell_type": "code",
   "execution_count": 14,
   "metadata": {},
   "outputs": [],
   "source": [
    "import pandas as pd\n",
    "\n",
    "#Load the data. Create new columns for defensive rebounds and the score differential \n",
    "data = pd.read_csv(\"nbagamestats.csv\")\n",
    "data[\"DefensiveRebounds\"] = data[\"TotalRebounds\"] - data[\"OffRebounds\"]\n",
    "data[\"Opp.DefensiveRebounds\"] = data[\"Opp.TotalRebounds\"] - data[\"Opp.OffRebounds\"]\n",
    "data[\"ScoreDiff\"] = data[\"TeamPoints\"] - data[\"OpponentPoints\"]\n",
    "ncol = data.shape[0]\n",
    "nrow = data.shape[1]\n",
    "\n",
    "\n",
    "#Function to get the features for a specific team\n",
    "def get_team_dataframe(teamname, allteamdata):\n",
    "    team_dataframe = allteamdata.loc[allteamdata['Team'] == teamname]\n",
    "    return(team_dataframe)\n",
    "\n",
    "#Index of team names \n",
    "team_index = data.Team.unique()\n",
    "\n"
   ]
  },
  {
   "cell_type": "code",
   "execution_count": 15,
   "metadata": {},
   "outputs": [],
   "source": [
    "#Dataframes for each team, for reference. \n",
    "ATL = get_team_dataframe(\"ATL\", data)\n",
    "BOS = get_team_dataframe(\"BOS\", data)\n",
    "BRK = get_team_dataframe(\"BRK\", data)\n",
    "CHO = get_team_dataframe(\"CHO\", data)\n",
    "CHI = get_team_dataframe(\"CHI\", data)\n",
    "CLE = get_team_dataframe(\"CLE\", data)\n",
    "DAL = get_team_dataframe(\"DAL\", data)\n",
    "DEN = get_team_dataframe(\"DEN\", data)\n",
    "DET = get_team_dataframe(\"DET\", data)\n",
    "GSW = get_team_dataframe(\"GSW\", data)\n",
    "HOU = get_team_dataframe(\"HOU\", data)\n",
    "IND = get_team_dataframe(\"IND\", data)\n",
    "LAC = get_team_dataframe(\"LAC\", data)\n",
    "LAL = get_team_dataframe(\"LAL\", data)\n",
    "MEM = get_team_dataframe(\"MEM\", data)\n",
    "MIA = get_team_dataframe(\"MIA\", data)\n",
    "MIL = get_team_dataframe(\"MIL\", data)\n",
    "MIN = get_team_dataframe(\"MIN\", data)\n",
    "NOP = get_team_dataframe(\"NOP\", data)\n",
    "NYK = get_team_dataframe(\"NYK\", data)\n",
    "OKC = get_team_dataframe(\"OKC\", data)\n",
    "ORL = get_team_dataframe(\"ORL\", data)\n",
    "PHI = get_team_dataframe(\"PHI\", data)\n",
    "PHO = get_team_dataframe(\"PHO\", data)\n",
    "POR = get_team_dataframe(\"POR\", data)\n",
    "SAC = get_team_dataframe(\"SAC\", data)\n",
    "SAS = get_team_dataframe(\"SAS\", data)\n",
    "TOR = get_team_dataframe(\"TOR\", data)\n",
    "UTA = get_team_dataframe(\"UTA\", data)\n",
    "WAS = get_team_dataframe(\"WAS\", data)\n"
   ]
  },
  {
   "cell_type": "code",
   "execution_count": 27,
   "metadata": {},
   "outputs": [],
   "source": [
    "#Dictionary of the teams and their dataframes\n",
    "d = {}\n",
    "for name in team_index:\n",
    "    d[name] = get_team_dataframe(name, data)\n",
    "\n",
    "\n",
    "#Old moving average function\n",
    "def team_moving_average(teamdata):\n",
    "    nrow = teamdata.shape[1]\n",
    "    quant_data = teamdata[[\"TeamPoints\", \"FieldGoals\", \"FieldGoalsAttempted\", \"X3PointShots\", \"X3PointShotsAttempted\", \n",
    "              \"FreeThrows\", \"FreeThrowsAttempted\", \"OffRebounds\", \"DefensiveRebounds\", \"Assists\", \"Steals\", \n",
    "             \"Blocks\", \"Turnovers\", \"TotalFouls\"]]\n",
    "    q = quant_data.rolling(window = 5).mean().shift(1)\n",
    "    rolling_df = q.dropna()\n",
    "    #date = teamdata[[\"Date\"]][5:]\n",
    "    #rolling_df = rolling_df.append(date)\n",
    "    return(rolling_df)\n",
    "    \n",
    "    \n",
    "#New moving average function \n",
    "def team_moving_average2(teamname, data):\n",
    "    teamdata = get_team_dataframe(teamname, data)\n",
    "    nrow = teamdata.shape[1]\n",
    "    quant_data = teamdata[[\"FieldGoals\", \"FieldGoalsAttempted\", \"X3PointShots\", \"X3PointShotsAttempted\", \n",
    "              \"FreeThrows\", \"FreeThrowsAttempted\", \"OffRebounds\", \"DefensiveRebounds\", \"Assists\", \"Steals\", \n",
    "             \"Blocks\", \"Turnovers\", \"TotalFouls\"]]\n",
    "    q = quant_data.rolling(window = 10).mean().shift(1)\n",
    "    opp = teamdata[\"Opponent\"]\n",
    "    date = teamdata[\"Date\"]\n",
    "    teampoints = teamdata[\"ScoreDiff\"]\n",
    "    rolling_df = q.join([opp, date, teampoints])\n",
    "    return(rolling_df)"
   ]
  },
  {
   "cell_type": "code",
   "execution_count": null,
   "metadata": {},
   "outputs": [],
   "source": [
    "#Combined frame\n",
    "data_frames = [ATL_R, BOS_R, BRK_R, CHO_R, CHI_R, CLE_R, DAL_R, DEN_R, DET_R, GSW_R, \n",
    "               HOU_R, IND_R, LAC_R, LAL_R, MEM_R, MIA_R, MIL_R, MIN_R, NOP_R, NYK_R, \n",
    "               OKC_R, ORL_R, PHI_R, PHO_R, POR_R, SAC_R, SAS_R, TOR_R, UTA_R, WAS_R]\n",
    "    \n",
    "\n",
    "\n"
   ]
  },
  {
   "cell_type": "code",
   "execution_count": null,
   "metadata": {},
   "outputs": [],
   "source": [
    "#Oponnent feature set \n",
    "quant_data_opp = teamdata[[\"Opp.FieldGoals\", \"Opp.FieldGoalsAttempted\", \"Opp.3PointShots\", \"Opp.3PointShotsAttempted\", \n",
    "              \"Opp.FreeThrows\", \"Opp.FreeThrowsAttempted\", \"Opp.OffRebounds\", \"Opp.DefensiveRebounds\", \"Opp.Assists\", \"Opp.Steals\", \n",
    "             \"Opp.Blocks\", \"Opp.Turnovers\", \"Opp.TotalFouls\"]]"
   ]
  },
  {
   "cell_type": "code",
   "execution_count": 190,
   "metadata": {},
   "outputs": [],
   "source": [
    "#Create final master dataframe \n",
    "complete_df = pd.DataFrame()\n",
    "count = 0\n",
    "for index, row in data.iterrows():\n",
    "    #Identify home team, awayteam, \n",
    "    if row[\"Home\"] == \"Home\":\n",
    "        hometeam = row[\"Team\"]\n",
    "        awayteam = row[\"Opponent\"]\n",
    "        gamedate = row[\"Date\"]\n",
    "        leftminusright = int(row[\"ScoreDiff\"])\n",
    "        homeminusaway = leftminusright\n",
    "        homedf = team_moving_average2(hometeam, data)\n",
    "        awaydf = team_moving_average2(awayteam, data)\n",
    "        homestats = homedf.loc[homedf[\"Date\"] == gamedate]\n",
    "        awaystats = awaydf.loc[awaydf[\"Date\"] == gamedate]\n",
    "        finalrow = pd.merge(homestats, awaystats, on = \"Date\", how = \"left\") \n",
    "        finalrow[\"HomeMinusAway\"] = homeminusaway\n",
    "        complete_df = complete_df.append(finalrow)\n",
    "    if row[\"Home\"] == \"Away\":\n",
    "        hometeam = row[\"Opponent\"]\n",
    "        awayteam = row[\"Team\"]\n",
    "        gamedate = row[\"Date\"]\n",
    "        leftminusright = int(row[\"ScoreDiff\"])\n",
    "        homeminusaway = -leftminusright \n",
    "        homedf = team_moving_average2(hometeam, data)\n",
    "        awaydf = team_moving_average2(awayteam, data)\n",
    "        homestats = homedf.loc[homedf[\"Date\"] == gamedate]\n",
    "        awaystats = awaydf.loc[awaydf[\"Date\"] == gamedate]\n",
    "        finalrow = pd.merge(homestats, awaystats, on = \"Date\", how = \"left\") \n",
    "        finalrow[\"HomeMinusAway\"] = homeminusaway\n",
    "        complete_df = complete_df.append(finalrow)\n",
    "\n"
   ]
  },
  {
   "cell_type": "code",
   "execution_count": 195,
   "metadata": {},
   "outputs": [],
   "source": [
    "#Correct number of rows \n",
    "complete_df.shape\n",
    "\n",
    "#Drop the N/A values \n",
    "curated_df = complete_df.dropna()"
   ]
  },
  {
   "cell_type": "code",
   "execution_count": 197,
   "metadata": {},
   "outputs": [],
   "source": [
    "#Save data to computer \n",
    "export_csv = curated_df.to_csv (r'C:\\Users\\zacharydiamandis\\Desktop\\export_dataframe3.csv', index = None, header=True) \n",
    "        \n",
    "        "
   ]
  },
  {
   "cell_type": "code",
   "execution_count": 196,
   "metadata": {},
   "outputs": [
    {
     "data": {
      "text/plain": [
       "(9524, 32)"
      ]
     },
     "execution_count": 196,
     "metadata": {},
     "output_type": "execute_result"
    }
   ],
   "source": [
    "curated_df.shape"
   ]
  },
  {
   "cell_type": "code",
   "execution_count": 199,
   "metadata": {},
   "outputs": [
    {
     "data": {
      "text/plain": [
       "['FieldGoals_x',\n",
       " 'FieldGoalsAttempted_x',\n",
       " 'X3PointShots_x',\n",
       " 'X3PointShotsAttempted_x',\n",
       " 'FreeThrows_x',\n",
       " 'FreeThrowsAttempted_x',\n",
       " 'OffRebounds_x',\n",
       " 'DefensiveRebounds_x',\n",
       " 'Assists_x',\n",
       " 'Steals_x',\n",
       " 'Blocks_x',\n",
       " 'Turnovers_x',\n",
       " 'TotalFouls_x',\n",
       " 'Opponent_x',\n",
       " 'Date',\n",
       " 'ScoreDiff_x',\n",
       " 'FieldGoals_y',\n",
       " 'FieldGoalsAttempted_y',\n",
       " 'X3PointShots_y',\n",
       " 'X3PointShotsAttempted_y',\n",
       " 'FreeThrows_y',\n",
       " 'FreeThrowsAttempted_y',\n",
       " 'OffRebounds_y',\n",
       " 'DefensiveRebounds_y',\n",
       " 'Assists_y',\n",
       " 'Steals_y',\n",
       " 'Blocks_y',\n",
       " 'Turnovers_y',\n",
       " 'TotalFouls_y',\n",
       " 'Opponent_y',\n",
       " 'ScoreDiff_y',\n",
       " 'HomeMinusAway']"
      ]
     },
     "execution_count": 199,
     "metadata": {},
     "output_type": "execute_result"
    }
   ],
   "source": [
    "list(complete_df.columns)"
   ]
  },
  {
   "cell_type": "code",
   "execution_count": null,
   "metadata": {},
   "outputs": [],
   "source": []
  }
 ],
 "metadata": {
  "kernelspec": {
   "display_name": "Python 3",
   "language": "python",
   "name": "python3"
  },
  "language_info": {
   "codemirror_mode": {
    "name": "ipython",
    "version": 3
   },
   "file_extension": ".py",
   "mimetype": "text/x-python",
   "name": "python",
   "nbconvert_exporter": "python",
   "pygments_lexer": "ipython3",
   "version": "3.7.2"
  }
 },
 "nbformat": 4,
 "nbformat_minor": 2
}
